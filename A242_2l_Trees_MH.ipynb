{
 "cells": [
  {
   "cell_type": "markdown",
   "metadata": {},
   "source": [
    "# Working Paper: Who is Covered by Unemployment Insurance in China?\n",
    "# Complementary Code File 2 for Appendix 2\n",
    "# Tree-based Models (Bagging and Boosting)\n",
    "\n",
    "This file complements Table A4.2\n",
    "\n",
    "## 1. Packages & data"
   ]
  },
  {
   "cell_type": "code",
   "execution_count": 4,
   "metadata": {},
   "outputs": [],
   "source": [
    "import pandas as pd\n",
    "import numpy as np\n",
    "import random\n",
    "import os\n",
    "import matplotlib.pyplot as plt\n",
    "import seaborn as sns\n",
    "\n",
    "# Machine Learning\n",
    "from sklearn import metrics\n",
    "from sklearn.utils import resample\n",
    "from sklearn.tree import DecisionTreeClassifier\n",
    "from sklearn.ensemble import BaggingClassifier, AdaBoostClassifier\n",
    "from sklearn.metrics import confusion_matrix, accuracy_score"
   ]
  },
  {
   "cell_type": "code",
   "execution_count": null,
   "metadata": {},
   "outputs": [
    {
     "name": "stdout",
     "output_type": "stream",
     "text": [
      "0.6544398189618225\n"
     ]
    }
   ],
   "source": [
    "# set seed for reproducability\n",
    "np.random.seed(421)\n",
    "random.seed(421)"
   ]
  },
  {
   "cell_type": "code",
   "execution_count": null,
   "metadata": {},
   "outputs": [],
   "source": [
    "# Working directory\n",
    "os.chdir('working directory')\n"
   ]
  },
  {
   "cell_type": "code",
   "execution_count": 6,
   "metadata": {},
   "outputs": [
    {
     "data": {
      "text/plain": [
       "(coverage_broad\n",
       " 0    4184\n",
       " 1     299\n",
       " Name: count, dtype: int64,\n",
       " coverage_broad\n",
       " 0    2790\n",
       " 1     199\n",
       " Name: count, dtype: int64)"
      ]
     },
     "execution_count": 6,
     "metadata": {},
     "output_type": "execute_result"
    }
   ],
   "source": [
    "# Load Y\n",
    "y_train = pd.read_csv('./broad_split/train_ybroad.csv')['coverage_broad']\n",
    "y_test = pd.read_csv('./broad_split/test_ybroad.csv')['coverage_broad']\n",
    "y_train.value_counts(), y_test.value_counts()"
   ]
  },
  {
   "cell_type": "code",
   "execution_count": 9,
   "metadata": {},
   "outputs": [
    {
     "name": "stdout",
     "output_type": "stream",
     "text": [
      "Dimensions of x_train: (4483, 7627)\n",
      "Dimensions of x_test: (2989, 7627)\n"
     ]
    }
   ],
   "source": [
    "# get PD data with column names\n",
    "colnames = pd.read_csv('./broad_split/colnames.csv', encoding='utf-8') # for feature extraction\n",
    "x_train = pd.read_csv('./broad_split/x_trainMH.csv', header=None, encoding='utf-8', dtype=np.uint8) \n",
    "x_test = pd.read_csv('./broad_split/x_testMH.csv', header=None, encoding='utf-8', dtype=np.uint8)\n",
    "\n",
    "# set colnames to Chinese characters\n",
    "x_train.columns = colnames\n",
    "x_test.columns = colnames\n",
    "\n",
    "# check the dimensions of the data\n",
    "print(\"Dimensions of x_train:\", x_train.shape)\n",
    "print(\"Dimensions of x_test:\", x_test.shape)"
   ]
  },
  {
   "cell_type": "code",
   "execution_count": 10,
   "metadata": {},
   "outputs": [
    {
     "data": {
      "text/html": [
       "<div>\n",
       "<style scoped>\n",
       "    .dataframe tbody tr th:only-of-type {\n",
       "        vertical-align: middle;\n",
       "    }\n",
       "\n",
       "    .dataframe tbody tr th {\n",
       "        vertical-align: top;\n",
       "    }\n",
       "\n",
       "    .dataframe thead th {\n",
       "        text-align: right;\n",
       "    }\n",
       "</style>\n",
       "<table border=\"1\" class=\"dataframe\">\n",
       "  <thead>\n",
       "    <tr style=\"text-align: right;\">\n",
       "      <th></th>\n",
       "      <th>(1, 必要条件)</th>\n",
       "      <th>(2, 数据安全)</th>\n",
       "      <th>(3, 创业项目)</th>\n",
       "      <th>(4, 8000)</th>\n",
       "      <th>(5, 这)</th>\n",
       "      <th>(6, 作)</th>\n",
       "      <th>(7, 促)</th>\n",
       "      <th>(8, 马鞍山)</th>\n",
       "      <th>(9, 年底)</th>\n",
       "      <th>(10, 经受)</th>\n",
       "      <th>...</th>\n",
       "      <th>(7618, 迅速行动)</th>\n",
       "      <th>(7619, 每人)</th>\n",
       "      <th>(7620, 340.38)</th>\n",
       "      <th>(7621, 答)</th>\n",
       "      <th>(7622, 行政部门)</th>\n",
       "      <th>(7623, 重点)</th>\n",
       "      <th>(7624, 460)</th>\n",
       "      <th>(7625, 乡)</th>\n",
       "      <th>(7626, 报给)</th>\n",
       "      <th>(7627, 沙湾县)</th>\n",
       "    </tr>\n",
       "  </thead>\n",
       "  <tbody>\n",
       "    <tr>\n",
       "      <th>0</th>\n",
       "      <td>0</td>\n",
       "      <td>0</td>\n",
       "      <td>0</td>\n",
       "      <td>0</td>\n",
       "      <td>0</td>\n",
       "      <td>0</td>\n",
       "      <td>0</td>\n",
       "      <td>0</td>\n",
       "      <td>0</td>\n",
       "      <td>0</td>\n",
       "      <td>...</td>\n",
       "      <td>0</td>\n",
       "      <td>0</td>\n",
       "      <td>0</td>\n",
       "      <td>0</td>\n",
       "      <td>0</td>\n",
       "      <td>0</td>\n",
       "      <td>0</td>\n",
       "      <td>0</td>\n",
       "      <td>0</td>\n",
       "      <td>0</td>\n",
       "    </tr>\n",
       "    <tr>\n",
       "      <th>1</th>\n",
       "      <td>0</td>\n",
       "      <td>0</td>\n",
       "      <td>0</td>\n",
       "      <td>0</td>\n",
       "      <td>0</td>\n",
       "      <td>0</td>\n",
       "      <td>0</td>\n",
       "      <td>0</td>\n",
       "      <td>0</td>\n",
       "      <td>0</td>\n",
       "      <td>...</td>\n",
       "      <td>0</td>\n",
       "      <td>0</td>\n",
       "      <td>0</td>\n",
       "      <td>0</td>\n",
       "      <td>0</td>\n",
       "      <td>0</td>\n",
       "      <td>0</td>\n",
       "      <td>0</td>\n",
       "      <td>0</td>\n",
       "      <td>0</td>\n",
       "    </tr>\n",
       "    <tr>\n",
       "      <th>2</th>\n",
       "      <td>0</td>\n",
       "      <td>0</td>\n",
       "      <td>0</td>\n",
       "      <td>0</td>\n",
       "      <td>0</td>\n",
       "      <td>0</td>\n",
       "      <td>0</td>\n",
       "      <td>0</td>\n",
       "      <td>0</td>\n",
       "      <td>0</td>\n",
       "      <td>...</td>\n",
       "      <td>0</td>\n",
       "      <td>0</td>\n",
       "      <td>0</td>\n",
       "      <td>0</td>\n",
       "      <td>0</td>\n",
       "      <td>0</td>\n",
       "      <td>0</td>\n",
       "      <td>0</td>\n",
       "      <td>0</td>\n",
       "      <td>0</td>\n",
       "    </tr>\n",
       "    <tr>\n",
       "      <th>3</th>\n",
       "      <td>0</td>\n",
       "      <td>0</td>\n",
       "      <td>0</td>\n",
       "      <td>0</td>\n",
       "      <td>0</td>\n",
       "      <td>0</td>\n",
       "      <td>0</td>\n",
       "      <td>0</td>\n",
       "      <td>0</td>\n",
       "      <td>0</td>\n",
       "      <td>...</td>\n",
       "      <td>0</td>\n",
       "      <td>0</td>\n",
       "      <td>0</td>\n",
       "      <td>0</td>\n",
       "      <td>0</td>\n",
       "      <td>0</td>\n",
       "      <td>0</td>\n",
       "      <td>0</td>\n",
       "      <td>0</td>\n",
       "      <td>0</td>\n",
       "    </tr>\n",
       "    <tr>\n",
       "      <th>4</th>\n",
       "      <td>0</td>\n",
       "      <td>0</td>\n",
       "      <td>0</td>\n",
       "      <td>0</td>\n",
       "      <td>0</td>\n",
       "      <td>0</td>\n",
       "      <td>0</td>\n",
       "      <td>0</td>\n",
       "      <td>0</td>\n",
       "      <td>0</td>\n",
       "      <td>...</td>\n",
       "      <td>0</td>\n",
       "      <td>0</td>\n",
       "      <td>0</td>\n",
       "      <td>0</td>\n",
       "      <td>0</td>\n",
       "      <td>0</td>\n",
       "      <td>0</td>\n",
       "      <td>0</td>\n",
       "      <td>0</td>\n",
       "      <td>0</td>\n",
       "    </tr>\n",
       "    <tr>\n",
       "      <th>...</th>\n",
       "      <td>...</td>\n",
       "      <td>...</td>\n",
       "      <td>...</td>\n",
       "      <td>...</td>\n",
       "      <td>...</td>\n",
       "      <td>...</td>\n",
       "      <td>...</td>\n",
       "      <td>...</td>\n",
       "      <td>...</td>\n",
       "      <td>...</td>\n",
       "      <td>...</td>\n",
       "      <td>...</td>\n",
       "      <td>...</td>\n",
       "      <td>...</td>\n",
       "      <td>...</td>\n",
       "      <td>...</td>\n",
       "      <td>...</td>\n",
       "      <td>...</td>\n",
       "      <td>...</td>\n",
       "      <td>...</td>\n",
       "      <td>...</td>\n",
       "    </tr>\n",
       "    <tr>\n",
       "      <th>4478</th>\n",
       "      <td>0</td>\n",
       "      <td>0</td>\n",
       "      <td>0</td>\n",
       "      <td>0</td>\n",
       "      <td>0</td>\n",
       "      <td>0</td>\n",
       "      <td>0</td>\n",
       "      <td>0</td>\n",
       "      <td>1</td>\n",
       "      <td>0</td>\n",
       "      <td>...</td>\n",
       "      <td>0</td>\n",
       "      <td>0</td>\n",
       "      <td>0</td>\n",
       "      <td>0</td>\n",
       "      <td>0</td>\n",
       "      <td>0</td>\n",
       "      <td>0</td>\n",
       "      <td>0</td>\n",
       "      <td>0</td>\n",
       "      <td>0</td>\n",
       "    </tr>\n",
       "    <tr>\n",
       "      <th>4479</th>\n",
       "      <td>0</td>\n",
       "      <td>0</td>\n",
       "      <td>0</td>\n",
       "      <td>0</td>\n",
       "      <td>0</td>\n",
       "      <td>0</td>\n",
       "      <td>0</td>\n",
       "      <td>0</td>\n",
       "      <td>0</td>\n",
       "      <td>0</td>\n",
       "      <td>...</td>\n",
       "      <td>0</td>\n",
       "      <td>0</td>\n",
       "      <td>0</td>\n",
       "      <td>0</td>\n",
       "      <td>0</td>\n",
       "      <td>0</td>\n",
       "      <td>0</td>\n",
       "      <td>0</td>\n",
       "      <td>0</td>\n",
       "      <td>0</td>\n",
       "    </tr>\n",
       "    <tr>\n",
       "      <th>4480</th>\n",
       "      <td>0</td>\n",
       "      <td>0</td>\n",
       "      <td>0</td>\n",
       "      <td>0</td>\n",
       "      <td>0</td>\n",
       "      <td>0</td>\n",
       "      <td>0</td>\n",
       "      <td>0</td>\n",
       "      <td>0</td>\n",
       "      <td>0</td>\n",
       "      <td>...</td>\n",
       "      <td>0</td>\n",
       "      <td>0</td>\n",
       "      <td>0</td>\n",
       "      <td>0</td>\n",
       "      <td>0</td>\n",
       "      <td>0</td>\n",
       "      <td>0</td>\n",
       "      <td>0</td>\n",
       "      <td>0</td>\n",
       "      <td>0</td>\n",
       "    </tr>\n",
       "    <tr>\n",
       "      <th>4481</th>\n",
       "      <td>0</td>\n",
       "      <td>0</td>\n",
       "      <td>0</td>\n",
       "      <td>0</td>\n",
       "      <td>0</td>\n",
       "      <td>0</td>\n",
       "      <td>0</td>\n",
       "      <td>0</td>\n",
       "      <td>0</td>\n",
       "      <td>0</td>\n",
       "      <td>...</td>\n",
       "      <td>0</td>\n",
       "      <td>0</td>\n",
       "      <td>0</td>\n",
       "      <td>0</td>\n",
       "      <td>0</td>\n",
       "      <td>0</td>\n",
       "      <td>0</td>\n",
       "      <td>0</td>\n",
       "      <td>0</td>\n",
       "      <td>0</td>\n",
       "    </tr>\n",
       "    <tr>\n",
       "      <th>4482</th>\n",
       "      <td>0</td>\n",
       "      <td>0</td>\n",
       "      <td>0</td>\n",
       "      <td>0</td>\n",
       "      <td>0</td>\n",
       "      <td>0</td>\n",
       "      <td>0</td>\n",
       "      <td>0</td>\n",
       "      <td>0</td>\n",
       "      <td>0</td>\n",
       "      <td>...</td>\n",
       "      <td>0</td>\n",
       "      <td>0</td>\n",
       "      <td>0</td>\n",
       "      <td>0</td>\n",
       "      <td>0</td>\n",
       "      <td>0</td>\n",
       "      <td>0</td>\n",
       "      <td>0</td>\n",
       "      <td>0</td>\n",
       "      <td>0</td>\n",
       "    </tr>\n",
       "  </tbody>\n",
       "</table>\n",
       "<p>4483 rows × 7627 columns</p>\n",
       "</div>"
      ],
      "text/plain": [
       "      (1, 必要条件)  (2, 数据安全)  (3, 创业项目)  (4, 8000)  (5, 这)  (6, 作)  (7, 促)  \\\n",
       "0             0          0          0          0       0       0       0   \n",
       "1             0          0          0          0       0       0       0   \n",
       "2             0          0          0          0       0       0       0   \n",
       "3             0          0          0          0       0       0       0   \n",
       "4             0          0          0          0       0       0       0   \n",
       "...         ...        ...        ...        ...     ...     ...     ...   \n",
       "4478          0          0          0          0       0       0       0   \n",
       "4479          0          0          0          0       0       0       0   \n",
       "4480          0          0          0          0       0       0       0   \n",
       "4481          0          0          0          0       0       0       0   \n",
       "4482          0          0          0          0       0       0       0   \n",
       "\n",
       "      (8, 马鞍山)  (9, 年底)  (10, 经受)  ...  (7618, 迅速行动)  (7619, 每人)  \\\n",
       "0            0        0         0  ...             0           0   \n",
       "1            0        0         0  ...             0           0   \n",
       "2            0        0         0  ...             0           0   \n",
       "3            0        0         0  ...             0           0   \n",
       "4            0        0         0  ...             0           0   \n",
       "...        ...      ...       ...  ...           ...         ...   \n",
       "4478         0        1         0  ...             0           0   \n",
       "4479         0        0         0  ...             0           0   \n",
       "4480         0        0         0  ...             0           0   \n",
       "4481         0        0         0  ...             0           0   \n",
       "4482         0        0         0  ...             0           0   \n",
       "\n",
       "      (7620, 340.38)  (7621, 答)  (7622, 行政部门)  (7623, 重点)  (7624, 460)  \\\n",
       "0                  0          0             0           0            0   \n",
       "1                  0          0             0           0            0   \n",
       "2                  0          0             0           0            0   \n",
       "3                  0          0             0           0            0   \n",
       "4                  0          0             0           0            0   \n",
       "...              ...        ...           ...         ...          ...   \n",
       "4478               0          0             0           0            0   \n",
       "4479               0          0             0           0            0   \n",
       "4480               0          0             0           0            0   \n",
       "4481               0          0             0           0            0   \n",
       "4482               0          0             0           0            0   \n",
       "\n",
       "      (7625, 乡)  (7626, 报给)  (7627, 沙湾县)  \n",
       "0             0           0            0  \n",
       "1             0           0            0  \n",
       "2             0           0            0  \n",
       "3             0           0            0  \n",
       "4             0           0            0  \n",
       "...         ...         ...          ...  \n",
       "4478          0           0            0  \n",
       "4479          0           0            0  \n",
       "4480          0           0            0  \n",
       "4481          0           0            0  \n",
       "4482          0           0            0  \n",
       "\n",
       "[4483 rows x 7627 columns]"
      ]
     },
     "execution_count": 10,
     "metadata": {},
     "output_type": "execute_result"
    }
   ],
   "source": [
    "# check dataset\n",
    "x_train"
   ]
  },
  {
   "cell_type": "code",
   "execution_count": 12,
   "metadata": {},
   "outputs": [
    {
     "data": {
      "text/html": [
       "<div>\n",
       "<style scoped>\n",
       "    .dataframe tbody tr th:only-of-type {\n",
       "        vertical-align: middle;\n",
       "    }\n",
       "\n",
       "    .dataframe tbody tr th {\n",
       "        vertical-align: top;\n",
       "    }\n",
       "\n",
       "    .dataframe thead th {\n",
       "        text-align: right;\n",
       "    }\n",
       "</style>\n",
       "<table border=\"1\" class=\"dataframe\">\n",
       "  <thead>\n",
       "    <tr style=\"text-align: right;\">\n",
       "      <th></th>\n",
       "      <th>(1, 必要条件)</th>\n",
       "      <th>(2, 数据安全)</th>\n",
       "      <th>(3, 创业项目)</th>\n",
       "      <th>(4, 8000)</th>\n",
       "      <th>(5, 这)</th>\n",
       "      <th>(6, 作)</th>\n",
       "      <th>(7, 促)</th>\n",
       "      <th>(8, 马鞍山)</th>\n",
       "      <th>(9, 年底)</th>\n",
       "      <th>(10, 经受)</th>\n",
       "      <th>...</th>\n",
       "      <th>(7618, 迅速行动)</th>\n",
       "      <th>(7619, 每人)</th>\n",
       "      <th>(7620, 340.38)</th>\n",
       "      <th>(7621, 答)</th>\n",
       "      <th>(7622, 行政部门)</th>\n",
       "      <th>(7623, 重点)</th>\n",
       "      <th>(7624, 460)</th>\n",
       "      <th>(7625, 乡)</th>\n",
       "      <th>(7626, 报给)</th>\n",
       "      <th>(7627, 沙湾县)</th>\n",
       "    </tr>\n",
       "  </thead>\n",
       "  <tbody>\n",
       "    <tr>\n",
       "      <th>0</th>\n",
       "      <td>0</td>\n",
       "      <td>0</td>\n",
       "      <td>0</td>\n",
       "      <td>0</td>\n",
       "      <td>0</td>\n",
       "      <td>0</td>\n",
       "      <td>0</td>\n",
       "      <td>0</td>\n",
       "      <td>0</td>\n",
       "      <td>0</td>\n",
       "      <td>...</td>\n",
       "      <td>0</td>\n",
       "      <td>0</td>\n",
       "      <td>0</td>\n",
       "      <td>0</td>\n",
       "      <td>0</td>\n",
       "      <td>0</td>\n",
       "      <td>0</td>\n",
       "      <td>0</td>\n",
       "      <td>0</td>\n",
       "      <td>0</td>\n",
       "    </tr>\n",
       "    <tr>\n",
       "      <th>1</th>\n",
       "      <td>0</td>\n",
       "      <td>0</td>\n",
       "      <td>0</td>\n",
       "      <td>0</td>\n",
       "      <td>0</td>\n",
       "      <td>0</td>\n",
       "      <td>0</td>\n",
       "      <td>0</td>\n",
       "      <td>0</td>\n",
       "      <td>0</td>\n",
       "      <td>...</td>\n",
       "      <td>0</td>\n",
       "      <td>0</td>\n",
       "      <td>0</td>\n",
       "      <td>0</td>\n",
       "      <td>0</td>\n",
       "      <td>0</td>\n",
       "      <td>0</td>\n",
       "      <td>0</td>\n",
       "      <td>0</td>\n",
       "      <td>0</td>\n",
       "    </tr>\n",
       "    <tr>\n",
       "      <th>2</th>\n",
       "      <td>0</td>\n",
       "      <td>0</td>\n",
       "      <td>0</td>\n",
       "      <td>0</td>\n",
       "      <td>0</td>\n",
       "      <td>0</td>\n",
       "      <td>0</td>\n",
       "      <td>0</td>\n",
       "      <td>0</td>\n",
       "      <td>0</td>\n",
       "      <td>...</td>\n",
       "      <td>0</td>\n",
       "      <td>0</td>\n",
       "      <td>0</td>\n",
       "      <td>0</td>\n",
       "      <td>0</td>\n",
       "      <td>0</td>\n",
       "      <td>0</td>\n",
       "      <td>0</td>\n",
       "      <td>0</td>\n",
       "      <td>0</td>\n",
       "    </tr>\n",
       "    <tr>\n",
       "      <th>3</th>\n",
       "      <td>0</td>\n",
       "      <td>0</td>\n",
       "      <td>0</td>\n",
       "      <td>0</td>\n",
       "      <td>0</td>\n",
       "      <td>0</td>\n",
       "      <td>0</td>\n",
       "      <td>0</td>\n",
       "      <td>0</td>\n",
       "      <td>0</td>\n",
       "      <td>...</td>\n",
       "      <td>0</td>\n",
       "      <td>0</td>\n",
       "      <td>0</td>\n",
       "      <td>0</td>\n",
       "      <td>0</td>\n",
       "      <td>0</td>\n",
       "      <td>0</td>\n",
       "      <td>0</td>\n",
       "      <td>0</td>\n",
       "      <td>0</td>\n",
       "    </tr>\n",
       "    <tr>\n",
       "      <th>4</th>\n",
       "      <td>0</td>\n",
       "      <td>0</td>\n",
       "      <td>0</td>\n",
       "      <td>0</td>\n",
       "      <td>0</td>\n",
       "      <td>0</td>\n",
       "      <td>0</td>\n",
       "      <td>0</td>\n",
       "      <td>0</td>\n",
       "      <td>0</td>\n",
       "      <td>...</td>\n",
       "      <td>0</td>\n",
       "      <td>0</td>\n",
       "      <td>0</td>\n",
       "      <td>0</td>\n",
       "      <td>0</td>\n",
       "      <td>0</td>\n",
       "      <td>0</td>\n",
       "      <td>0</td>\n",
       "      <td>0</td>\n",
       "      <td>0</td>\n",
       "    </tr>\n",
       "    <tr>\n",
       "      <th>...</th>\n",
       "      <td>...</td>\n",
       "      <td>...</td>\n",
       "      <td>...</td>\n",
       "      <td>...</td>\n",
       "      <td>...</td>\n",
       "      <td>...</td>\n",
       "      <td>...</td>\n",
       "      <td>...</td>\n",
       "      <td>...</td>\n",
       "      <td>...</td>\n",
       "      <td>...</td>\n",
       "      <td>...</td>\n",
       "      <td>...</td>\n",
       "      <td>...</td>\n",
       "      <td>...</td>\n",
       "      <td>...</td>\n",
       "      <td>...</td>\n",
       "      <td>...</td>\n",
       "      <td>...</td>\n",
       "      <td>...</td>\n",
       "      <td>...</td>\n",
       "    </tr>\n",
       "    <tr>\n",
       "      <th>48143</th>\n",
       "      <td>0</td>\n",
       "      <td>0</td>\n",
       "      <td>0</td>\n",
       "      <td>0</td>\n",
       "      <td>0</td>\n",
       "      <td>0</td>\n",
       "      <td>0</td>\n",
       "      <td>0</td>\n",
       "      <td>0</td>\n",
       "      <td>0</td>\n",
       "      <td>...</td>\n",
       "      <td>0</td>\n",
       "      <td>0</td>\n",
       "      <td>0</td>\n",
       "      <td>0</td>\n",
       "      <td>0</td>\n",
       "      <td>0</td>\n",
       "      <td>0</td>\n",
       "      <td>0</td>\n",
       "      <td>0</td>\n",
       "      <td>0</td>\n",
       "    </tr>\n",
       "    <tr>\n",
       "      <th>48144</th>\n",
       "      <td>0</td>\n",
       "      <td>0</td>\n",
       "      <td>0</td>\n",
       "      <td>0</td>\n",
       "      <td>0</td>\n",
       "      <td>0</td>\n",
       "      <td>0</td>\n",
       "      <td>0</td>\n",
       "      <td>0</td>\n",
       "      <td>0</td>\n",
       "      <td>...</td>\n",
       "      <td>0</td>\n",
       "      <td>0</td>\n",
       "      <td>0</td>\n",
       "      <td>0</td>\n",
       "      <td>0</td>\n",
       "      <td>0</td>\n",
       "      <td>0</td>\n",
       "      <td>0</td>\n",
       "      <td>0</td>\n",
       "      <td>0</td>\n",
       "    </tr>\n",
       "    <tr>\n",
       "      <th>48145</th>\n",
       "      <td>0</td>\n",
       "      <td>0</td>\n",
       "      <td>0</td>\n",
       "      <td>0</td>\n",
       "      <td>0</td>\n",
       "      <td>0</td>\n",
       "      <td>0</td>\n",
       "      <td>0</td>\n",
       "      <td>0</td>\n",
       "      <td>0</td>\n",
       "      <td>...</td>\n",
       "      <td>0</td>\n",
       "      <td>0</td>\n",
       "      <td>0</td>\n",
       "      <td>0</td>\n",
       "      <td>0</td>\n",
       "      <td>0</td>\n",
       "      <td>0</td>\n",
       "      <td>0</td>\n",
       "      <td>0</td>\n",
       "      <td>0</td>\n",
       "    </tr>\n",
       "    <tr>\n",
       "      <th>48146</th>\n",
       "      <td>0</td>\n",
       "      <td>0</td>\n",
       "      <td>0</td>\n",
       "      <td>0</td>\n",
       "      <td>0</td>\n",
       "      <td>0</td>\n",
       "      <td>0</td>\n",
       "      <td>0</td>\n",
       "      <td>0</td>\n",
       "      <td>0</td>\n",
       "      <td>...</td>\n",
       "      <td>0</td>\n",
       "      <td>0</td>\n",
       "      <td>0</td>\n",
       "      <td>0</td>\n",
       "      <td>0</td>\n",
       "      <td>0</td>\n",
       "      <td>0</td>\n",
       "      <td>0</td>\n",
       "      <td>0</td>\n",
       "      <td>0</td>\n",
       "    </tr>\n",
       "    <tr>\n",
       "      <th>48147</th>\n",
       "      <td>0</td>\n",
       "      <td>0</td>\n",
       "      <td>0</td>\n",
       "      <td>0</td>\n",
       "      <td>0</td>\n",
       "      <td>0</td>\n",
       "      <td>0</td>\n",
       "      <td>0</td>\n",
       "      <td>0</td>\n",
       "      <td>0</td>\n",
       "      <td>...</td>\n",
       "      <td>0</td>\n",
       "      <td>0</td>\n",
       "      <td>0</td>\n",
       "      <td>0</td>\n",
       "      <td>0</td>\n",
       "      <td>0</td>\n",
       "      <td>0</td>\n",
       "      <td>0</td>\n",
       "      <td>0</td>\n",
       "      <td>0</td>\n",
       "    </tr>\n",
       "  </tbody>\n",
       "</table>\n",
       "<p>48148 rows × 7627 columns</p>\n",
       "</div>"
      ],
      "text/plain": [
       "       (1, 必要条件)  (2, 数据安全)  (3, 创业项目)  (4, 8000)  (5, 这)  (6, 作)  (7, 促)  \\\n",
       "0              0          0          0          0       0       0       0   \n",
       "1              0          0          0          0       0       0       0   \n",
       "2              0          0          0          0       0       0       0   \n",
       "3              0          0          0          0       0       0       0   \n",
       "4              0          0          0          0       0       0       0   \n",
       "...          ...        ...        ...        ...     ...     ...     ...   \n",
       "48143          0          0          0          0       0       0       0   \n",
       "48144          0          0          0          0       0       0       0   \n",
       "48145          0          0          0          0       0       0       0   \n",
       "48146          0          0          0          0       0       0       0   \n",
       "48147          0          0          0          0       0       0       0   \n",
       "\n",
       "       (8, 马鞍山)  (9, 年底)  (10, 经受)  ...  (7618, 迅速行动)  (7619, 每人)  \\\n",
       "0             0        0         0  ...             0           0   \n",
       "1             0        0         0  ...             0           0   \n",
       "2             0        0         0  ...             0           0   \n",
       "3             0        0         0  ...             0           0   \n",
       "4             0        0         0  ...             0           0   \n",
       "...         ...      ...       ...  ...           ...         ...   \n",
       "48143         0        0         0  ...             0           0   \n",
       "48144         0        0         0  ...             0           0   \n",
       "48145         0        0         0  ...             0           0   \n",
       "48146         0        0         0  ...             0           0   \n",
       "48147         0        0         0  ...             0           0   \n",
       "\n",
       "       (7620, 340.38)  (7621, 答)  (7622, 行政部门)  (7623, 重点)  (7624, 460)  \\\n",
       "0                   0          0             0           0            0   \n",
       "1                   0          0             0           0            0   \n",
       "2                   0          0             0           0            0   \n",
       "3                   0          0             0           0            0   \n",
       "4                   0          0             0           0            0   \n",
       "...               ...        ...           ...         ...          ...   \n",
       "48143               0          0             0           0            0   \n",
       "48144               0          0             0           0            0   \n",
       "48145               0          0             0           0            0   \n",
       "48146               0          0             0           0            0   \n",
       "48147               0          0             0           0            0   \n",
       "\n",
       "       (7625, 乡)  (7626, 报给)  (7627, 沙湾县)  \n",
       "0              0           0            0  \n",
       "1              0           0            0  \n",
       "2              0           0            0  \n",
       "3              0           0            0  \n",
       "4              0           0            0  \n",
       "...          ...         ...          ...  \n",
       "48143          0           0            0  \n",
       "48144          0           0            0  \n",
       "48145          0           0            0  \n",
       "48146          0           0            0  \n",
       "48147          0           0            0  \n",
       "\n",
       "[48148 rows x 7627 columns]"
      ]
     },
     "execution_count": 12,
     "metadata": {},
     "output_type": "execute_result"
    }
   ],
   "source": [
    "# load unlabelled predictors\n",
    "x_unlabelled = pd.read_csv('./broad_split/df_unlabelledMH.csv', header=0, encoding='utf-8', dtype=np.uint8) \n",
    "x_unlabelled.columns = colnames\n",
    "x_unlabelled"
   ]
  },
  {
   "cell_type": "code",
   "execution_count": null,
   "metadata": {},
   "outputs": [],
   "source": [
    "# Win\n",
    "unemployment_unlabelled = pd.read_csv('unemployment_unlabelled_20250206.csv', header=0, encoding='utf-8')"
   ]
  },
  {
   "cell_type": "markdown",
   "metadata": {},
   "source": [
    "Upsampling the training data to counter the imbalanced distribution of y."
   ]
  },
  {
   "cell_type": "code",
   "execution_count": 15,
   "metadata": {},
   "outputs": [
    {
     "name": "stdout",
     "output_type": "stream",
     "text": [
      "Number of class 1 examples after: 4184\n"
     ]
    }
   ],
   "source": [
    "# Select the minority class samples\n",
    "minority_class_samples = x_train[y_train == 1]\n",
    "# Extract samples from the x_trainMH dataset where the corresponding labels in the 'coverage_broad' column are equal to 1, representing the minority class.\n",
    "\n",
    "# Extract the corresponding labels for the minority class samples.\n",
    "minority_class_labels = y_train[y_train == 1]\n",
    "\n",
    "# Upsample the minority class to match the majority class\n",
    "X_upsampled, y_upsampled = resample(minority_class_samples, # upsample the minority class samples ...\n",
    "                                    minority_class_labels, # ...and labels \n",
    "                                    replace=True, # sampling with replacement (so more than the original number of positive cases can be added)\n",
    "                                    n_samples=x_train[y_train == 0].shape[0], # specifies the desired number of samples, which is set to the number of samples in the majority class.\n",
    "                                    random_state=123) #  seed for reproducibility.\n",
    "\n",
    "print('Number of class 1 examples after:', X_upsampled.shape[0])\n"
   ]
  },
  {
   "cell_type": "code",
   "execution_count": 16,
   "metadata": {},
   "outputs": [
    {
     "name": "stdout",
     "output_type": "stream",
     "text": [
      "Dimensions of X_upsampled: (8368, 7627)\n",
      "Dimensions of y_upsampled: (8368,)\n"
     ]
    }
   ],
   "source": [
    "## Put dataframes together again\n",
    "X_bal = np.vstack((x_train[y_train == 0], X_upsampled))\n",
    "y_bal = np.hstack((y_train[y_train == 0], y_upsampled))\n",
    "# Check the dimensions of the upsampled data\n",
    "print(\"Dimensions of X_upsampled:\", X_bal.shape)\n",
    "print(\"Dimensions of y_upsampled:\", y_bal.shape)"
   ]
  },
  {
   "cell_type": "code",
   "execution_count": 17,
   "metadata": {},
   "outputs": [
    {
     "name": "stdout",
     "output_type": "stream",
     "text": [
      "Distribution of class labels in y_upsampled:\n",
      "0    4184\n",
      "1    4184\n",
      "Name: count, dtype: int64\n"
     ]
    }
   ],
   "source": [
    "# Check the distribution of class labels in y_upsampled\n",
    "print(\"Distribution of class labels in y_upsampled:\")\n",
    "print(pd.Series(y_bal).value_counts())"
   ]
  },
  {
   "cell_type": "markdown",
   "metadata": {},
   "source": [
    "## 2. Bagging\n",
    "\n",
    "Bagging (Bootstrap Aggregating) is a method of ensemble learning that repeatedly draws samples from the original training data. Bagging can help avoid over-fitting with high-dimensional data, but has a weakness in reducing bias. Therefore, it is best applied with a classifyer that has a low bias, such as a Decision Tree with uncut trees.\n",
    "\n",
    "The configuration of the Decision Tree used for Bagging here is loosely oriented towards the defaults in the Rpart package. Maximum tree depth was set to None for the bagging application, and the minimum number of samples needed for a split have been adjusted more substantially to adjust for words that potentially only occur a few times but have high predictive power."
   ]
  },
  {
   "cell_type": "code",
   "execution_count": null,
   "metadata": {},
   "outputs": [],
   "source": [
    "# Loosely oriented to defaults in Rpart\n",
    "tree_rp = DecisionTreeClassifier(criterion='gini', \n",
    "                                    min_samples_split=3, # Rpart default: minsplit = 20\n",
    "                                    min_samples_leaf=1,\n",
    "                                    max_depth=None, # Rpart default: maxdepth = 30\n",
    "                                    ccp_alpha=0.005, # Rpart default: cp = 0.01\n",
    "                                    random_state=1)"
   ]
  },
  {
   "cell_type": "code",
   "execution_count": 12,
   "metadata": {},
   "outputs": [],
   "source": [
    "# Set up bagging\n",
    "bagtree = BaggingClassifier(estimator=tree_rp,\n",
    "                            #estimator=tree_rp,\n",
    "                            n_estimators = 500,\n",
    "                            max_samples = 1.0,\n",
    "                            max_features = 1.0,\n",
    "                            bootstrap = True,\n",
    "                            bootstrap_features = False,\n",
    "                            n_jobs = -1,\n",
    "                            random_state = 1)"
   ]
  },
  {
   "cell_type": "code",
   "execution_count": null,
   "metadata": {},
   "outputs": [],
   "source": [
    "# train the model\n",
    "bag_model = bagtree.fit(X_bal, y_bal)"
   ]
  },
  {
   "cell_type": "code",
   "execution_count": 20,
   "metadata": {},
   "outputs": [],
   "source": [
    "# predict\n",
    "y_train_pred = bag_model.predict(X_bal)\n",
    "y_test_pred = bag_model.predict(x_test)"
   ]
  },
  {
   "cell_type": "code",
   "execution_count": 21,
   "metadata": {},
   "outputs": [
    {
     "name": "stdout",
     "output_type": "stream",
     "text": [
      "Bagging Tree Training/Test Accuracy 0.905/0.863\n"
     ]
    }
   ],
   "source": [
    "# get the scores\n",
    "bag_train = accuracy_score(y_true=y_bal, y_pred=y_train_pred)\n",
    "bag_test = accuracy_score(y_true=y_test, y_pred=y_test_pred)\n",
    "print('Bagging Tree Training/Test Accuracy %.3f/%.3f' % (bag_train, bag_test))"
   ]
  },
  {
   "cell_type": "code",
   "execution_count": 23,
   "metadata": {},
   "outputs": [
    {
     "name": "stdout",
     "output_type": "stream",
     "text": [
      "              precision    recall  f1-score   support\n",
      "\n",
      "           0       0.99      0.86      0.92      2790\n",
      "           1       0.31      0.87      0.46       199\n",
      "\n",
      "    accuracy                           0.86      2989\n",
      "   macro avg       0.65      0.87      0.69      2989\n",
      "weighted avg       0.94      0.86      0.89      2989\n",
      "\n"
     ]
    }
   ],
   "source": [
    "# Evaluate the model\n",
    "print(metrics.classification_report(y_true=y_test, y_pred=y_test_pred))"
   ]
  },
  {
   "cell_type": "code",
   "execution_count": null,
   "metadata": {},
   "outputs": [
    {
     "data": {
      "text/plain": [
       "Text(113.9222222222222, 0.5, 'predicted label')"
      ]
     },
     "execution_count": 24,
     "metadata": {},
     "output_type": "execute_result"
    },
    {
     "data": {
      "image/png": "[encoded data removed]",
      "text/plain": [
       "<Figure size 640x480 with 1 Axes>"
      ]
     },
     "metadata": {},
     "output_type": "display_data"
    }
   ],
   "source": [
    "# confusion matrix\n",
    "conf_matrix = confusion_matrix(y_true=y_test, y_pred=y_test_pred)\n",
    "sns.heatmap(conf_matrix.T, square=True, annot=True, fmt='d', cbar=False)\n",
    "plt.xlabel('true label')\n",
    "plt.ylabel('predicted label')"
   ]
  },
  {
   "cell_type": "markdown",
   "metadata": {},
   "source": [
    "There are many false positives, which can be controlled with relatively little workload. By contrast, there are few false negatives, which would require substantial work to control."
   ]
  },
  {
   "cell_type": "code",
   "execution_count": 31,
   "metadata": {},
   "outputs": [],
   "source": [
    "# save model\n",
    "import pickle\n",
    "with open(\"BagTree_MH_A86_S87_20250206\", 'wb') as file: pickle.dump(bag_model, file)"
   ]
  },
  {
   "cell_type": "code",
   "execution_count": null,
   "metadata": {},
   "outputs": [],
   "source": [
    "# load model\n",
    "with open(\"BagTree_MH_A86_S87_20250206\", 'rb') as file: bag_model = pickle.load(file)"
   ]
  },
  {
   "cell_type": "markdown",
   "metadata": {},
   "source": [
    "Predictions on the unlabelled data:"
   ]
  },
  {
   "cell_type": "code",
   "execution_count": 25,
   "metadata": {},
   "outputs": [
    {
     "data": {
      "text/plain": [
       "bag_label\n",
       "0    38542\n",
       "1     9606\n",
       "Name: count, dtype: int64"
      ]
     },
     "execution_count": 25,
     "metadata": {},
     "output_type": "execute_result"
    }
   ],
   "source": [
    "# Predict with Logistic Regression\n",
    "unemployment_unlabelled['bag_label'] = bag_model.predict(x_unlabelled)\n",
    "unemployment_unlabelled['bag_label'].value_counts()"
   ]
  },
  {
   "cell_type": "code",
   "execution_count": 62,
   "metadata": {},
   "outputs": [],
   "source": [
    "# save the dataframe\n",
    "unemployment_unlabelled.to_csv('unemployment_unlabelled_20250206.csv', index=False)"
   ]
  },
  {
   "cell_type": "markdown",
   "metadata": {},
   "source": [
    "## 3. Boosting\n",
    "\n",
    "Adaptive Boosting uses an ensemble of weak classifiers, which is able to reduce both over-fitting and bias. As it consecutively draws new samples from the training data, it prioritizes learning on previously mis-classified observations. "
   ]
  },
  {
   "cell_type": "code",
   "execution_count": 26,
   "metadata": {},
   "outputs": [],
   "source": [
    "# very basic tree\n",
    "tree = DecisionTreeClassifier(criterion='entropy',\n",
    "                              max_depth=1,\n",
    "                              random_state=1)"
   ]
  },
  {
   "cell_type": "code",
   "execution_count": null,
   "metadata": {},
   "outputs": [],
   "source": [
    "# configure adaptive boosting \n",
    "ada = AdaBoostClassifier(estimator=tree,\n",
    "                         n_estimators=500,\n",
    "                         algorithm = 'SAMME',\n",
    "                         learning_rate=0.8,\n",
    "                         random_state=1)"
   ]
  },
  {
   "cell_type": "code",
   "execution_count": null,
   "metadata": {},
   "outputs": [
    {
     "name": "stderr",
     "output_type": "stream",
     "text": [
      "c:\\Users\\Paul\\anaconda3\\envs\\ConPy310\\lib\\site-packages\\sklearn\\ensemble\\_weight_boosting.py:519: FutureWarning: The parameter 'algorithm' is deprecated in 1.6 and has no effect. It will be removed in version 1.8.\n",
      "  warnings.warn(\n"
     ]
    }
   ],
   "source": [
    "# fit the model\n",
    "adab_model = ada.fit(X_bal, y_bal)"
   ]
  },
  {
   "cell_type": "code",
   "execution_count": 34,
   "metadata": {},
   "outputs": [],
   "source": [
    "## predict on training and test data\n",
    "y_bal_pred = adab_model.predict(X_bal)\n",
    "y_test_pred = adab_model.predict(x_test)"
   ]
  },
  {
   "cell_type": "code",
   "execution_count": 35,
   "metadata": {},
   "outputs": [
    {
     "name": "stdout",
     "output_type": "stream",
     "text": [
      "AdaBoost Training/Test-ACC 0.901/0.946\n"
     ]
    }
   ],
   "source": [
    "## get the accuracy scores\n",
    "adab_train = accuracy_score(y_true=y_bal, y_pred=y_bal_pred)\n",
    "adab_test = accuracy_score(y_true=y_test, y_pred=y_test_pred)\n",
    "\n",
    "## print the results\n",
    "print('AdaBoost Training/Test-ACC %.3f/%.3f' % (adab_train, adab_test))"
   ]
  },
  {
   "cell_type": "code",
   "execution_count": null,
   "metadata": {},
   "outputs": [
    {
     "name": "stdout",
     "output_type": "stream",
     "text": [
      "              precision    recall  f1-score   support\n",
      "\n",
      "           0       0.98      0.96      0.97      2790\n",
      "           1       0.57      0.79      0.66       199\n",
      "\n",
      "    accuracy                           0.95      2989\n",
      "   macro avg       0.78      0.87      0.82      2989\n",
      "weighted avg       0.96      0.95      0.95      2989\n",
      "\n"
     ]
    }
   ],
   "source": [
    "# Classification report\n",
    "print(metrics.classification_report(y_true=y_test, y_pred=y_test_pred))"
   ]
  },
  {
   "cell_type": "code",
   "execution_count": 37,
   "metadata": {},
   "outputs": [
    {
     "data": {
      "text/plain": [
       "Text(113.9222222222222, 0.5, 'predicted label')"
      ]
     },
     "execution_count": 37,
     "metadata": {},
     "output_type": "execute_result"
    },
    {
     "data": {
      "image/png": "[encoded data removed]",
      "text/plain": [
       "<Figure size 640x480 with 1 Axes>"
      ]
     },
     "metadata": {},
     "output_type": "display_data"
    }
   ],
   "source": [
    "# confusion matrix\n",
    "conf_matrix = confusion_matrix(y_true=y_test, y_pred=y_test_pred)\n",
    "sns.heatmap(conf_matrix.T, square=True, annot=True, fmt='d', cbar=False)\n",
    "plt.xlabel('true label')\n",
    "plt.ylabel('predicted label')"
   ]
  },
  {
   "cell_type": "code",
   "execution_count": 47,
   "metadata": {},
   "outputs": [],
   "source": [
    "# save model\n",
    "import pickle\n",
    "with open(\"BoostTree_MH_95_79_LR08\", 'wb') as file: pickle.dump(adab_model, file)"
   ]
  },
  {
   "cell_type": "code",
   "execution_count": null,
   "metadata": {},
   "outputs": [],
   "source": [
    "# load model\n",
    "with open(\"BoostTree_MH_95_79_LR08\", 'rb') as file: adab_model = pickle.load(file)"
   ]
  },
  {
   "cell_type": "code",
   "execution_count": 38,
   "metadata": {},
   "outputs": [],
   "source": [
    "# Predict on unlabelled data\n",
    "unemployment_unlabelled['adaboost_label'] = adab_model.predict(x_unlabelled)"
   ]
  },
  {
   "cell_type": "code",
   "execution_count": 55,
   "metadata": {},
   "outputs": [
    {
     "data": {
      "text/plain": [
       "adaboost_label\n",
       "0    43280\n",
       "1     4868\n",
       "Name: count, dtype: int64"
      ]
     },
     "execution_count": 55,
     "metadata": {},
     "output_type": "execute_result"
    }
   ],
   "source": [
    "# inspect labels\n",
    "unemployment_unlabelled['adaboost_label'].value_counts()"
   ]
  },
  {
   "cell_type": "code",
   "execution_count": 56,
   "metadata": {},
   "outputs": [],
   "source": [
    "# save the dataframe\n",
    "unemployment_unlabelled.to_csv('unemployment_unlabelled_20250206.csv', index=False)"
   ]
  }
 ],
 "metadata": {
  "kernelspec": {
   "display_name": "Python 3",
   "language": "python",
   "name": "python3"
  },
  "language_info": {
   "codemirror_mode": {
    "name": "ipython",
    "version": 3
   },
   "file_extension": ".py",
   "mimetype": "text/x-python",
   "name": "python",
   "nbconvert_exporter": "python",
   "pygments_lexer": "ipython3",
   "version": "3.9.6"
  }
 },
 "nbformat": 4,
 "nbformat_minor": 2
}
