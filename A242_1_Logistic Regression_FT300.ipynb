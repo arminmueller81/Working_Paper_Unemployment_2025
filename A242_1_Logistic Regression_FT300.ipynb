{
 "cells": [
  {
   "cell_type": "markdown",
   "metadata": {},
   "source": [
    "# Working Paper: Who is Covered by Unemployment Insurance in China?\n",
    "# Complementary Code File 1 for Appendix 2\n",
    "# Logistic Regression \n",
    "\n",
    "This file complements Table A4.2\n",
    "\n",
    "## 1. Packages & data"
   ]
  },
  {
   "cell_type": "code",
   "execution_count": 31,
   "metadata": {},
   "outputs": [],
   "source": [
    "# fundamentals\n",
    "import pandas as pd\n",
    "import numpy as np\n",
    "import os\n",
    "import random\n",
    "import matplotlib.pyplot as plt\n",
    "import seaborn as sns; sns.set()\n",
    "\n",
    "# Machine learning\n",
    "import sklearn\n",
    "from sklearn.utils import resample\n",
    "from  sklearn import metrics\n",
    "from sklearn.metrics import confusion_matrix, precision_recall_curve\n",
    "from sklearn.linear_model import LogisticRegression\n",
    "from sklearn.model_selection import RandomizedSearchCV, StratifiedKFold"
   ]
  },
  {
   "cell_type": "code",
   "execution_count": 26,
   "metadata": {},
   "outputs": [
    {
     "data": {
      "text/plain": [
       "'1.5.1'"
      ]
     },
     "execution_count": 26,
     "metadata": {},
     "output_type": "execute_result"
    }
   ],
   "source": [
    "sklearn.__version__"
   ]
  },
  {
   "cell_type": "code",
   "execution_count": 2,
   "metadata": {},
   "outputs": [],
   "source": [
    "# Set seeds for reproducability\n",
    "np.random.seed(421)\n",
    "random.seed(421)"
   ]
  },
  {
   "cell_type": "code",
   "execution_count": 3,
   "metadata": {},
   "outputs": [],
   "source": [
    "# set working directory\n",
    "os.chdir('/Users/arminmuller/Documents/NLP_Projekte/03_unemployment/07_training_dta')\n"
   ]
  },
  {
   "cell_type": "code",
   "execution_count": 5,
   "metadata": {},
   "outputs": [],
   "source": [
    "# Load Y\n",
    "y_train = pd.read_csv('./broad_split/train_ybroad.csv')['coverage_broad']\n",
    "y_test = pd.read_csv('./broad_split/test_ybroad.csv')['coverage_broad']"
   ]
  },
  {
   "cell_type": "code",
   "execution_count": 6,
   "metadata": {},
   "outputs": [
    {
     "data": {
      "text/plain": [
       "(coverage_broad\n",
       " 0    4184\n",
       " 1     299\n",
       " Name: count, dtype: int64,\n",
       " coverage_broad\n",
       " 0    2790\n",
       " 1     199\n",
       " Name: count, dtype: int64)"
      ]
     },
     "execution_count": 6,
     "metadata": {},
     "output_type": "execute_result"
    }
   ],
   "source": [
    "# cehck distribution\n",
    "y_train.value_counts(), y_test.value_counts()"
   ]
  },
  {
   "cell_type": "code",
   "execution_count": 39,
   "metadata": {},
   "outputs": [
    {
     "data": {
      "text/plain": [
       "((4483, 300), (2989, 300), (48148, 300))"
      ]
     },
     "execution_count": 39,
     "metadata": {},
     "output_type": "execute_result"
    }
   ],
   "source": [
    "# Load Fasttext data and check shape\n",
    "x_train = pd.read_csv('./broad_split/train_embeddedFT_300.csv', header=None).to_numpy()\n",
    "x_test = pd.read_csv('./broad_split/test_embeddedFT_300.csv', header=None).to_numpy()\n",
    "x_unlabelled = pd.read_csv('./broad_split/sentencesFT300array.csv', header=None).to_numpy()\n",
    "# check the shapes\n",
    "x_train.shape, x_test.shape, x_unlabelled.shape"
   ]
  },
  {
   "cell_type": "code",
   "execution_count": 42,
   "metadata": {},
   "outputs": [
    {
     "data": {
      "text/plain": [
       "(48148, 10)"
      ]
     },
     "execution_count": 42,
     "metadata": {},
     "output_type": "execute_result"
    }
   ],
   "source": [
    "# load original dataset\n",
    "unemployment_original = pd.read_csv('data_unlabelled.csv', header=0, encoding='utf-8')\n",
    "unemployment_original.shape"
   ]
  },
  {
   "cell_type": "markdown",
   "metadata": {},
   "source": [
    "# 2. Upsampling"
   ]
  },
  {
   "cell_type": "code",
   "execution_count": 11,
   "metadata": {},
   "outputs": [
    {
     "name": "stdout",
     "output_type": "stream",
     "text": [
      "Number of class 1 examples after: 4184\n"
     ]
    }
   ],
   "source": [
    "# Select the minority class samples\n",
    "minority_class_samples = x_train[y_train == 1]\n",
    "minority_class_labels = y_train[y_train == 1]\n",
    "\n",
    "# Upsample the minority class to match the majority class\n",
    "X_upsampled, y_upsampled = resample(minority_class_samples,\n",
    "                                    minority_class_labels,\n",
    "                                    replace=True,\n",
    "                                    n_samples=x_train[y_train == 0].shape[0],\n",
    "                                    random_state=123)\n",
    "\n",
    "print('Number of class 1 examples after:', X_upsampled.shape[0])\n"
   ]
  },
  {
   "cell_type": "code",
   "execution_count": 13,
   "metadata": {},
   "outputs": [
    {
     "data": {
      "text/plain": [
       "array([[-2.14670617e-02,  4.11114581e-02,  3.94491911e-01, ...,\n",
       "        -9.39625800e-02,  6.33676201e-02,  2.55419929e-02],\n",
       "       [-3.49178948e-02, -1.69882160e-02,  3.64662409e-01, ...,\n",
       "        -7.88820460e-02,  2.51125563e-02,  2.67051836e-03],\n",
       "       [-2.41066907e-02,  2.65071429e-02,  4.24849480e-01, ...,\n",
       "        -1.46163243e-03,  1.89747978e-02, -7.94780534e-03],\n",
       "       ...,\n",
       "       [-1.39346244e-02,  2.41102166e-02,  3.71662527e-01, ...,\n",
       "        -1.36478141e-01, -8.54717102e-03, -1.44801764e-02],\n",
       "       [-2.30265856e-02, -1.05695566e-03,  4.34518784e-01, ...,\n",
       "        -4.91104536e-02,  5.26972376e-02,  1.84931341e-04],\n",
       "       [-8.12765677e-03,  2.07027309e-02,  3.69029731e-01, ...,\n",
       "        -9.88934040e-02,  4.84383442e-02,  3.70826311e-02]])"
      ]
     },
     "execution_count": 13,
     "metadata": {},
     "output_type": "execute_result"
    }
   ],
   "source": [
    "## Put dataframes together again\n",
    "X_bal = np.vstack((x_train[y_train == 0], X_upsampled))\n",
    "X_bal"
   ]
  },
  {
   "cell_type": "code",
   "execution_count": 15,
   "metadata": {},
   "outputs": [
    {
     "data": {
      "text/plain": [
       "0    4184\n",
       "1    4184\n",
       "Name: count, dtype: int64"
      ]
     },
     "execution_count": 15,
     "metadata": {},
     "output_type": "execute_result"
    }
   ],
   "source": [
    "# Dependent Variable\n",
    "y_bal = np.hstack((y_train[y_train == 0], y_upsampled))\n",
    "pd.Series(y_bal).value_counts()"
   ]
  },
  {
   "cell_type": "markdown",
   "metadata": {},
   "source": [
    "# 3. Grid Search for Logistic Regression\n",
    "\n",
    "Configuration\n",
    "Solver: liblinear - good for small datasets, binary classification only\\\n",
    "Penalties: try L1 and L2\\\n",
    "C - inverse regularization strength from 0 to 100"
   ]
  },
  {
   "cell_type": "code",
   "execution_count": 16,
   "metadata": {},
   "outputs": [],
   "source": [
    "param_grid = {\n",
    "    'C': list(range(0, 100, 1)) # inverse reglarization strength, smaller values specify stronger regularization\n",
    "}"
   ]
  },
  {
   "cell_type": "code",
   "execution_count": 48,
   "metadata": {},
   "outputs": [],
   "source": [
    "param_grid = {\n",
    "    'C': list(range(8, 13, 1)) # inverse reglarization strength, smaller values specify stronger regularization\n",
    "}"
   ]
  },
  {
   "cell_type": "code",
   "execution_count": 45,
   "metadata": {},
   "outputs": [],
   "source": [
    "# set up algorithm with L2 for regular data\n",
    "logreg = LogisticRegression(solver='liblinear', # optimize gradient descent\n",
    "                            multi_class='auto', #\n",
    "                            penalty='l2',\n",
    "                            class_weight = 'balanced',\n",
    "                            max_iter=250,\n",
    "                            random_state=1,\n",
    "                            verbose = 1)"
   ]
  },
  {
   "cell_type": "code",
   "execution_count": 46,
   "metadata": {},
   "outputs": [],
   "source": [
    "# set up algorithm with L2 for balanced data\n",
    "logreg_bal = LogisticRegression(solver='liblinear', # optimize gradient descent\n",
    "                            multi_class='auto', #\n",
    "                            penalty='l2',\n",
    "                            max_iter=250,\n",
    "                            random_state=1,\n",
    "                            verbose = 1)"
   ]
  },
  {
   "cell_type": "code",
   "execution_count": 47,
   "metadata": {},
   "outputs": [],
   "source": [
    "# stratified cross-validation\n",
    "stratified_cv = StratifiedKFold(n_splits = 3, shuffle = True, random_state=421)"
   ]
  },
  {
   "cell_type": "markdown",
   "metadata": {},
   "source": [
    "## 3.1 Grid search on regular data"
   ]
  },
  {
   "cell_type": "code",
   "execution_count": 52,
   "metadata": {},
   "outputs": [],
   "source": [
    "gs = RandomizedSearchCV(estimator=logreg,\n",
    "                  param_distributions=param_grid,\n",
    "                  n_iter=200, # number of models tested\n",
    "                  scoring=['accuracy', 'recall'], \n",
    "                  cv = stratified_cv, # default: None = 5 fold\n",
    "                  refit='recall', #refit estimator with the best recall\n",
    "                  verbose=2, # progress report\n",
    "                  n_jobs=-1) # use all CPUs"
   ]
  },
  {
   "cell_type": "code",
   "execution_count": null,
   "metadata": {},
   "outputs": [],
   "source": [
    "# 2. on regular data\n",
    "gs = gs.fit(x_train, y_train)"
   ]
  },
  {
   "cell_type": "code",
   "execution_count": null,
   "metadata": {},
   "outputs": [],
   "source": [
    "# Print best results\n",
    "print(gs.best_score_)\n",
    "print(gs.best_params_)"
   ]
  },
  {
   "cell_type": "markdown",
   "metadata": {},
   "source": [
    "#### Best results \n",
    "L2:  Accuracy Training 0.7491582491582491 with {'penalty': 'l2', 'C': 10} Test Accuracy: 87%, Sensitivity 79%.\n",
    "\n",
    "L1: Accuracy Training: 0.6956565656565656 with {'C': 5} Test Accuracy: 87%, Sensitivity 75%."
   ]
  },
  {
   "cell_type": "code",
   "execution_count": null,
   "metadata": {},
   "outputs": [
    {
     "name": "stdout",
     "output_type": "stream",
     "text": [
      "              precision    recall  f1-score   support\n",
      "\n",
      "           0       0.98      0.88      0.93      2790\n",
      "           1       0.30      0.75      0.43       199\n",
      "\n",
      "    accuracy                           0.87      2989\n",
      "   macro avg       0.64      0.81      0.68      2989\n",
      "weighted avg       0.93      0.87      0.89      2989\n",
      "\n"
     ]
    }
   ],
   "source": [
    "# model report\n",
    "print(metrics.classification_report(y_true=y_test, y_pred=gs.predict(x_test)))"
   ]
  },
  {
   "cell_type": "markdown",
   "metadata": {},
   "source": [
    "## 3.2 on upsampled data\n",
    "\n",
    "Results are slightly worse than with regular data.\n",
    "\n",
    "#### Best results\n",
    "\n",
    "L2: Accuracy Training: 0.9462230175748942 with {'C': 85}, Test Accuracy: 87%, Sensitivity 74%. \n",
    "\n",
    "L1: Accuracy Training: 0.9562621167008634 with {'C': 87}, Test Accuracy: 87%, Sensitivity 72%. "
   ]
  },
  {
   "cell_type": "code",
   "execution_count": 19,
   "metadata": {},
   "outputs": [],
   "source": [
    "gs = RandomizedSearchCV(estimator=logreg_bal,\n",
    "                  param_distributions=param_grid,\n",
    "                  n_iter=200, # number of models tested\n",
    "                  scoring=['accuracy', 'recall'], #   ['accuracy', 'precision', 'recall', 'f1', 'roc_auc']\n",
    "                  cv = 3, #stratified_cv, # default: None = 5 fold\n",
    "                  refit='recall', # True (with single metric): refit estimator with the best parameters\n",
    "                  verbose=2, # progress report\n",
    "                  n_jobs=-1) # 1: only 1 CPU; -1: all CPUs"
   ]
  },
  {
   "cell_type": "code",
   "execution_count": null,
   "metadata": {},
   "outputs": [],
   "source": [
    "# 2. on regular data\n",
    "gs = gs.fit(X_bal, y_bal)"
   ]
  },
  {
   "cell_type": "code",
   "execution_count": 21,
   "metadata": {},
   "outputs": [
    {
     "name": "stdout",
     "output_type": "stream",
     "text": [
      "0.9462230175748942\n",
      "{'C': 85}\n"
     ]
    }
   ],
   "source": [
    "# get best model \n",
    "print(gs.best_score_)\n",
    "print(gs.best_params_)"
   ]
  },
  {
   "cell_type": "code",
   "execution_count": null,
   "metadata": {},
   "outputs": [
    {
     "name": "stdout",
     "output_type": "stream",
     "text": [
      "              precision    recall  f1-score   support\n",
      "\n",
      "           0       0.98      0.88      0.93      2790\n",
      "           1       0.31      0.74      0.44       199\n",
      "\n",
      "    accuracy                           0.87      2989\n",
      "   macro avg       0.64      0.81      0.68      2989\n",
      "weighted avg       0.94      0.87      0.90      2989\n",
      "\n"
     ]
    }
   ],
   "source": [
    "# Classification report\n",
    "print(metrics.classification_report(y_true=y_test, y_pred=gs.predict(x_test)))"
   ]
  },
  {
   "cell_type": "markdown",
   "metadata": {},
   "source": [
    "# 4. Fit most promising model"
   ]
  },
  {
   "cell_type": "code",
   "execution_count": 27,
   "metadata": {},
   "outputs": [],
   "source": [
    "logreg = LogisticRegression(solver='liblinear', # optimize gradient descent\n",
    "                            multi_class='auto', #\n",
    "                            penalty='l2',\n",
    "                            C = 10,\n",
    "                            class_weight = 'balanced',\n",
    "                            max_iter=250,\n",
    "                            random_state=1,\n",
    "                            verbose = 1)"
   ]
  },
  {
   "cell_type": "code",
   "execution_count": 18,
   "metadata": {},
   "outputs": [
    {
     "name": "stderr",
     "output_type": "stream",
     "text": [
      "/Users/arminmuller/Library/Python/3.9/lib/python/site-packages/sklearn/linear_model/_logistic.py:1247: FutureWarning: 'multi_class' was deprecated in version 1.5 and will be removed in 1.7. From then on, it will always use 'multinomial'. Leave it to its default value to avoid this warning.\n",
      "  warnings.warn(\n"
     ]
    },
    {
     "name": "stdout",
     "output_type": "stream",
     "text": [
      "[LibLinear]iter  1 act 1.297e+04 pre 1.124e+04 delta 2.813e+01 f 3.107e+04 |g| 1.847e+03 CG   7\n",
      "iter  2 act 3.105e+03 pre 2.612e+03 delta 3.135e+01 f 1.811e+04 |g| 5.070e+02 CG  11\n",
      "iter  3 act 5.829e+02 pre 5.132e+02 delta 3.135e+01 f 1.500e+04 |g| 1.674e+02 CG  12\n",
      "iter  4 act 4.238e+01 pre 4.004e+01 delta 3.135e+01 f 1.442e+04 |g| 4.312e+01 CG  11\n",
      "iter  5 act 2.240e+00 pre 2.076e+00 delta 3.135e+01 f 1.438e+04 |g| 6.261e+00 CG  13\n",
      "iter  6 act 8.151e-02 pre 7.931e-02 delta 3.135e+01 f 1.437e+04 |g| 1.075e+00 CG  13\n",
      "iter  7 act 6.989e-04 pre 6.988e-04 delta 3.135e+01 f 1.437e+04 |g| 9.951e-02 CG  13\n"
     ]
    }
   ],
   "source": [
    "# fit the model\n",
    "log_model = logreg.fit(x_train, y_train)"
   ]
  },
  {
   "cell_type": "code",
   "execution_count": 19,
   "metadata": {},
   "outputs": [],
   "source": [
    "# make predictions\n",
    "y_pred_test = log_model.predict(x_test)"
   ]
  },
  {
   "cell_type": "code",
   "execution_count": 28,
   "metadata": {},
   "outputs": [
    {
     "name": "stdout",
     "output_type": "stream",
     "text": [
      "              precision    recall  f1-score   support\n",
      "\n",
      "           0       0.98      0.88      0.93      2790\n",
      "           1       0.31      0.79      0.45       199\n",
      "\n",
      "    accuracy                           0.87      2989\n",
      "   macro avg       0.65      0.84      0.69      2989\n",
      "weighted avg       0.94      0.87      0.90      2989\n",
      "\n"
     ]
    }
   ],
   "source": [
    "# get evaluation\n",
    "print(metrics.classification_report(y_true=y_test, y_pred=y_pred_test))"
   ]
  },
  {
   "cell_type": "code",
   "execution_count": 131,
   "metadata": {},
   "outputs": [],
   "source": [
    "# save model\n",
    "import pickle\n",
    "with open(\"LogReg_FT300_A87_S79_20250204\", 'wb') as file: pickle.dump(log_model, file)"
   ]
  },
  {
   "cell_type": "code",
   "execution_count": null,
   "metadata": {},
   "outputs": [],
   "source": [
    "# open model\n",
    "with open(\"LogReg_FT300_A87_S79_20250204\", 'rb') as file: BoostTree_MH_97_94 = pickle.load(file)"
   ]
  },
  {
   "cell_type": "markdown",
   "metadata": {},
   "source": [
    "# 5. Precision-Recall curve\n",
    "\n",
    "When turning the predicted probabilities into predicted labels, we can adjust the threshold so that it better suits the data and purpose of research. In this case, false positives are less of a problem than false negatives. The precision-recall curve helps us understand the trade-off."
   ]
  },
  {
   "cell_type": "code",
   "execution_count": 29,
   "metadata": {},
   "outputs": [],
   "source": [
    "# get the probabilities for the training cases\n",
    "y_probs = log_model.predict_proba(x_test)[:, 1]"
   ]
  },
  {
   "cell_type": "code",
   "execution_count": 32,
   "metadata": {},
   "outputs": [],
   "source": [
    "# Get precision-recall pairs for different decision thresholds\n",
    "precision, recall, thresholds = precision_recall_curve(y_true=y_test, y_score=y_probs)"
   ]
  },
  {
   "cell_type": "code",
   "execution_count": 33,
   "metadata": {},
   "outputs": [
    {
     "name": "stdout",
     "output_type": "stream",
     "text": [
      "Threshold: 0.0000, Recall: 1.0000\n",
      "Threshold: 0.1001, Recall: 1.0000\n",
      "Threshold: 0.2001, Recall: 0.9648\n",
      "Threshold: 0.2996, Recall: 0.8995\n",
      "Threshold: 0.3995, Recall: 0.8342\n",
      "Threshold: 0.5002, Recall: 0.7940\n",
      "Threshold: 0.5994, Recall: 0.7035\n",
      "Threshold: 0.6997, Recall: 0.6030\n",
      "Threshold: 0.7996, Recall: 0.5276\n",
      "Threshold: 0.8996, Recall: 0.3568\n"
     ]
    }
   ],
   "source": [
    "## Get Recall values connected to different decision thresholds\n",
    "# Define the desired probability thresholds\n",
    "desired_thresholds = np.arange(0, 1.0, 0.1)\n",
    "\n",
    "# Find the indices in the 'thresholds' array that are closest to the desired thresholds\n",
    "indices = [np.argmin(np.abs(thresholds - t)) for t in desired_thresholds]\n",
    "\n",
    "# Print recall values for the selected thresholds\n",
    "for index in indices:\n",
    "    print(f\"Threshold: {thresholds[index]:.4f}, Recall: {recall[index]:.4f}\")"
   ]
  },
  {
   "cell_type": "code",
   "execution_count": 34,
   "metadata": {},
   "outputs": [
    {
     "data": {
      "image/png": "[encoded data removed]",
      "text/plain": [
       "<Figure size 640x480 with 1 Axes>"
      ]
     },
     "metadata": {},
     "output_type": "display_data"
    }
   ],
   "source": [
    "# Plot precision-recall curve\n",
    "plt.plot(recall, precision, label='Precision-Recall Curve')\n",
    "plt.xlabel('Recall')\n",
    "plt.ylabel('Precision')\n",
    "plt.title('Precision-Recall Curve for Logistic Regression')\n",
    "plt.legend()\n",
    "plt.show()"
   ]
  },
  {
   "cell_type": "markdown",
   "metadata": {},
   "source": [
    "A threshold of 0.3 should for about 90% sensitivity:"
   ]
  },
  {
   "cell_type": "code",
   "execution_count": 43,
   "metadata": {},
   "outputs": [
    {
     "data": {
      "text/plain": [
       "Text(110.44999999999997, 0.5, 'predicted label')"
      ]
     },
     "execution_count": 43,
     "metadata": {},
     "output_type": "execute_result"
    },
    {
     "data": {
      "image/png": "[encoded data removed]",
      "text/plain": [
       "<Figure size 640x480 with 1 Axes>"
      ]
     },
     "metadata": {},
     "output_type": "display_data"
    }
   ],
   "source": [
    "# confusion matrix\n",
    "\n",
    "# Choose a specific threshold\n",
    "threshold = 0.3\n",
    "\n",
    "# Convert probabilities to binary predictions based on the chosen threshold\n",
    "y_pred = (y_probs >= threshold).astype(int)\n",
    "\n",
    "# Calculate the confusion matrix\n",
    "conf_matrix = confusion_matrix(y_true=y_test, y_pred=y_pred)\n",
    "\n",
    "sns.heatmap(conf_matrix.T, square=True, annot=True, fmt='d', cbar=False)\n",
    "plt.xlabel('true label')\n",
    "plt.ylabel('predicted label')"
   ]
  },
  {
   "cell_type": "code",
   "execution_count": 44,
   "metadata": {},
   "outputs": [
    {
     "name": "stdout",
     "output_type": "stream",
     "text": [
      "              precision    recall  f1-score   support\n",
      "\n",
      "           0       0.99      0.75      0.85      2790\n",
      "           1       0.21      0.90      0.33       199\n",
      "\n",
      "    accuracy                           0.76      2989\n",
      "   macro avg       0.60      0.83      0.59      2989\n",
      "weighted avg       0.94      0.76      0.82      2989\n",
      "\n"
     ]
    }
   ],
   "source": [
    "# get evaluation\n",
    "print(metrics.classification_report(y_true=y_test, y_pred=y_probs>0.3))"
   ]
  },
  {
   "cell_type": "markdown",
   "metadata": {},
   "source": [
    "# 6. Predictions on full data"
   ]
  },
  {
   "cell_type": "code",
   "execution_count": 40,
   "metadata": {},
   "outputs": [
    {
     "data": {
      "text/plain": [
       "array([[-0.02729948,  0.02167973,  0.35824174, ..., -0.06960829,\n",
       "        -0.00845382,  0.02607262],\n",
       "       [-0.03080398,  0.00588637,  0.42432806, ..., -0.02386729,\n",
       "         0.01668894,  0.04827082],\n",
       "       [-0.02684368,  0.02521074,  0.36128402, ..., -0.08851033,\n",
       "         0.01537016, -0.02189901],\n",
       "       ...,\n",
       "       [ 0.02191888,  0.02748494,  0.39411756, ..., -0.017831  ,\n",
       "         0.00223454, -0.0055392 ],\n",
       "       [ 0.00107818,  0.01312841,  0.40042478, ..., -0.11792309,\n",
       "         0.04319954, -0.03831099],\n",
       "       [-0.00448724, -0.00716751,  0.30642202, ..., -0.01603545,\n",
       "        -0.0033478 ,  0.02294911]])"
      ]
     },
     "execution_count": 40,
     "metadata": {},
     "output_type": "execute_result"
    }
   ],
   "source": [
    "x_unlabelled"
   ]
  },
  {
   "cell_type": "code",
   "execution_count": 63,
   "metadata": {},
   "outputs": [
    {
     "data": {
      "text/plain": [
       "array([0.92089139, 0.99701031, 0.20976949, ..., 0.11564369, 0.1303273 ,\n",
       "       0.122113  ], shape=(48148,))"
      ]
     },
     "execution_count": 63,
     "metadata": {},
     "output_type": "execute_result"
    }
   ],
   "source": [
    "# Predict with Logistic Regression\n",
    "FT300_logreg_probas  = log_model .predict_proba(x_unlabelled)[:, 1]\n",
    "FT300_logreg_probas"
   ]
  },
  {
   "cell_type": "code",
   "execution_count": 64,
   "metadata": {},
   "outputs": [],
   "source": [
    "# save the probabilities\n",
    "np.savetxt(\"FT300_logreg_probas_2025\", FT300_logreg_probas, delimiter=\",\")"
   ]
  },
  {
   "cell_type": "code",
   "execution_count": null,
   "metadata": {},
   "outputs": [],
   "source": [
    "# add probabilities to dataframe\n",
    "unemployment_unlabelled['logreg_proba'] = FT300_logreg_probas"
   ]
  },
  {
   "cell_type": "code",
   "execution_count": 71,
   "metadata": {},
   "outputs": [],
   "source": [
    "# save the dataframe\n",
    "unemployment_unlabelled.to_csv('unemployment_unlabelled_20250206.csv', index=False)"
   ]
  }
 ],
 "metadata": {
  "kernelspec": {
   "display_name": "Python 3",
   "language": "python",
   "name": "python3"
  },
  "language_info": {
   "codemirror_mode": {
    "name": "ipython",
    "version": 3
   },
   "file_extension": ".py",
   "mimetype": "text/x-python",
   "name": "python",
   "nbconvert_exporter": "python",
   "pygments_lexer": "ipython3",
   "version": "3.9.6"
  }
 },
 "nbformat": 4,
 "nbformat_minor": 2
}
